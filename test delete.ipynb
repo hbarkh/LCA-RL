{
 "cells": [
  {
   "cell_type": "code",
   "execution_count": 1,
   "id": "sudden-substitute",
   "metadata": {},
   "outputs": [],
   "source": [
    "import numpy as np\n",
    "from numba import njit"
   ]
  },
  {
   "cell_type": "code",
   "execution_count": 45,
   "id": "alternative-alaska",
   "metadata": {},
   "outputs": [],
   "source": [
    "def normalizeSN(action):\n",
    "\n",
    "    # SN Max: 1.3 * Initial SN\n",
    "    # SN Min: 0.7 * Initial SN\n",
    "    # action will be 0 - 1 because <0 is overlay, furthermore <-0.5 is do nothing\n",
    "    sn_multiplier = action * (1.3-0.7) + 0.7\n",
    "\n",
    "    return sn_multiplier"
   ]
  },
  {
   "cell_type": "code",
   "execution_count": 46,
   "id": "equivalent-tooth",
   "metadata": {},
   "outputs": [
    {
     "name": "stdout",
     "output_type": "stream",
     "text": [
      "93.5 ns ± 0.502 ns per loop (mean ± std. dev. of 7 runs, 10000000 loops each)\n"
     ]
    }
   ],
   "source": [
    "%timeit normalizeSN(2)"
   ]
  },
  {
   "cell_type": "code",
   "execution_count": 47,
   "id": "sealed-rough",
   "metadata": {},
   "outputs": [
    {
     "name": "stdout",
     "output_type": "stream",
     "text": [
      "1.0270000000000001\n"
     ]
    }
   ],
   "source": [
    "print(normalizeSN(0.545))"
   ]
  },
  {
   "cell_type": "code",
   "execution_count": 52,
   "id": "further-bandwidth",
   "metadata": {},
   "outputs": [],
   "source": [
    "a = 0\n",
    "\n",
    "if a >= 1:\n",
    "    print('yeet')"
   ]
  },
  {
   "cell_type": "code",
   "execution_count": null,
   "id": "alternative-evaluation",
   "metadata": {},
   "outputs": [],
   "source": []
  }
 ],
 "metadata": {
  "kernelspec": {
   "display_name": "Python 3",
   "language": "python",
   "name": "python3"
  },
  "language_info": {
   "codemirror_mode": {
    "name": "ipython",
    "version": 3
   },
   "file_extension": ".py",
   "mimetype": "text/x-python",
   "name": "python",
   "nbconvert_exporter": "python",
   "pygments_lexer": "ipython3",
   "version": "3.7.10"
  }
 },
 "nbformat": 4,
 "nbformat_minor": 5
}
